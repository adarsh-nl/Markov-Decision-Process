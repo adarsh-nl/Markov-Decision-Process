{
  "cells": [
    {
      "cell_type": "markdown",
      "metadata": {
        "id": "view-in-github",
        "colab_type": "text"
      },
      "source": [
        "<a href=\"https://colab.research.google.com/github/adarsh-nl/Markov-Decision-Process/blob/main/MC_and_TD_control.ipynb\" target=\"_parent\"><img src=\"https://colab.research.google.com/assets/colab-badge.svg\" alt=\"Open In Colab\"/></a>"
      ]
    },
    {
      "cell_type": "code",
      "execution_count": 21,
      "metadata": {
        "colab": {
          "base_uri": "https://localhost:8080/"
        },
        "id": "pxk47cAOy9qk",
        "outputId": "37a7c7ac-312a-48c4-a8b6-325068d81ad7"
      },
      "outputs": [
        {
          "output_type": "stream",
          "name": "stdout",
          "text": [
            "observation space: 5, states created from observation space: [0, 1, 2, 3, 4]\n",
            "action space: 5, states created from observation space: [0, 1, 2, 3, 4]\n",
            "value of each states:\n",
            " [[0.]\n",
            " [0.]\n",
            " [0.]\n",
            " [0.]\n",
            " [0.]]\n",
            "value of each states after MC prediction:\n",
            " [[48.03557604]\n",
            " [48.31435447]\n",
            " [48.04824438]\n",
            " [ 0.42348357]\n",
            " [ 0.        ]]\n",
            "The policy after iteration is: [2 1 1 4 3] \n",
            "\n",
            "\n",
            "-------x-------\n",
            "\n",
            "value of each states are reset before implementing TD prediction:\n",
            " [[0.]\n",
            " [0.]\n",
            " [0.]\n",
            " [0.]\n",
            " [0.]]\n",
            "value of each states after TD prediction:\n",
            " [[0.84546669]\n",
            " [0.96583004]\n",
            " [0.87577251]\n",
            " [0.92424104]\n",
            " [0.79536902]]\n",
            "The policy after iteration is: [2 1 1 4 3]\n",
            "\n"
          ]
        }
      ],
      "source": [
        "import gym\n",
        "import numpy as np\n",
        "\n",
        "class Agent(gym.Env):\n",
        "    def __init__(self, n_states, n_actions):\n",
        "        self.observation_space = gym.spaces.Discrete(n_states)\n",
        "        self.states = [n for n in range(self.observation_space.n)]\n",
        "        self.initial_state = self.states[0]\n",
        "        self.final_state = self.states[-1]\n",
        "        self.action_space = gym.spaces.Discrete(n_actions)\n",
        "        self.actions = [n for n in range(self.action_space.n)]\n",
        "        self.rewards = np.random.rand(n_states, n_actions)\n",
        "        self.value = np.zeros((n_states, 1))\n",
        "        #self.policy = np.random.rand(n_states, n_actions)\n",
        "        #self.policy /= self.policy.sum(axis=1, keepdims=True)\n",
        "        self.policy = np.random.randint(0, n_states, (n_states, 1))\n",
        "        self.policy = self.policy.flatten()        \n",
        "        self.state = 0\n",
        "        self.iterations = 1000\n",
        "\n",
        "    def reset(self, state):\n",
        "        self.state = state\n",
        "        return self.state\n",
        "\n",
        "    def value_reset(self):\n",
        "        self.value = np.zeros((n_states, 1))\n",
        "    \n",
        "    def mc_episodes(self, state):\n",
        "        rewards_ = []\n",
        "        steps = 0\n",
        "        while state != self.final_state:\n",
        "            action = int(np.random.randint(self.action_space.n))\n",
        "            print\n",
        "            rewards_.append(self.rewards[state, action])\n",
        "            next_state = self.policy[state]\n",
        "            state = next_state\n",
        "            steps += 1\n",
        "            if steps > 100:\n",
        "                break\n",
        "        gt = sum(rewards_)\n",
        "        return gt\n",
        "\n",
        "    def monte_carlo(self):\n",
        "        for state in self.states:\n",
        "          for episode in range (1, self.iterations):\n",
        "              gt = self.mc_episodes(state)\n",
        "              #self.value[state]  = self.value[state] + (1/episode)*(gt - self.value[state])\n",
        "              self.value[state]  = (self.value[state] * (episode - 1) + gt )/episode\n",
        "\n",
        "    # TD (Temporal Difference) Method\n",
        "    def TD(self):\n",
        "         # Loop over the number of episodes\n",
        "        for episode in range(1, self.iterations):\n",
        "            # Loop over each state\n",
        "            for state in self.states:\n",
        "                # Update the value function for each state\n",
        "                self.value[state] += self.rewards[state, np.random.randint(len(self.states))] + np.random.rand(1)\n",
        "        \n",
        "        # Normalize the value function by the number of iterations\n",
        "        self.value = self.value/self.iterations\n",
        "\n",
        "    def policy_improvement(self, policy, transition_probs, rewards, discount_factor, V):\n",
        "        for state in range(self.numstates_):\n",
        "            action_values = np.zeros(self.actions)\n",
        "            for action, action_prob in enumerate(policy[state]):\n",
        "                for next_state, prob in enumerate(transition_probs[state][action]):\n",
        "                    action_values[action] += action_prob * prob * (rewards[state][action][next_state] + discount_factor * V[next_state])\n",
        "            policy[state] = np.eye(self.actions)[np.argmax(action_values)]\n",
        "        return policy\n",
        "\n",
        "    def policy_iteration(self, n_states, n_actions, rewards, alg='MC', epsilon=0.1):\n",
        "        steps = 0\n",
        "        k = 1\n",
        "        #policy = np.ones([n_states, n_actions]) / n_actions\n",
        "        policy = self.policy\n",
        "        #V = np.zeros(n_states)\n",
        "        V = self.value\n",
        "        while True:\n",
        "            if alg == 'MC':\n",
        "                V = self.value\n",
        "            elif alg == 'TD':\n",
        "                self.TD()\n",
        "                V = self.value\n",
        "            else:\n",
        "                raise ValueError(f\"Invalid value for 'alg' parameter: {alg}\")\n",
        "            policy_stable = True\n",
        "            for state in range(n_states):\n",
        "                steps += 1\n",
        "                coin_toss = np.random.rand(1)\n",
        "                if coin_toss < epsilon:\n",
        "                    # Exploration: choose a random action\n",
        "                    new_a = np.random.choice(n_actions)\n",
        "                else:\n",
        "                    # Exploitation: choose the action with highest Q-value\n",
        "                    action_values = np.zeros(n_actions)\n",
        "                    for action in range(n_actions):\n",
        "                        next_state = action\n",
        "                        av = rewards[state][action] + V[next_state]\n",
        "                        action_values[action] = av\n",
        "                    new_a = np.argmax(action_values)\n",
        "                chosen_a = np.argmax(policy[state])\n",
        "                if chosen_a != new_a:\n",
        "                    policy_stable = False\n",
        "                    #policy[state] = np.eye(n_actions)[new_a]\n",
        "                if steps>100:\n",
        "                  break\n",
        "            if policy_stable:\n",
        "                break\n",
        "        return policy, V\n",
        "\n",
        "n_states = 5\n",
        "n_actions = 5\n",
        "\n",
        "env = Agent(n_states, n_actions)\n",
        "print(f\"observation space: {env.observation_space.n}, states created from observation space: {env.states}\")\n",
        "print(f\"action space: {env.action_space.n}, states created from observation space: {env.actions}\")\n",
        "print(f\"value of each states:\\n {env.value}\")\n",
        "env.monte_carlo()\n",
        "print(f\"value of each states after MC prediction:\\n {env.value}\")\n",
        "policy_matrix, value_matrix = env.policy_iteration(n_states, n_actions, env.rewards, alg='MC')\n",
        "print(\"The policy after iteration is: {} \\n\".format(policy_matrix))\n",
        "\n",
        "env.value_reset()\n",
        "print('\\n-------x-------\\n')\n",
        "print(f\"value of each states are reset before implementing TD prediction:\\n {env.value}\")\n",
        "env.TD()\n",
        "print(f\"value of each states after TD prediction:\\n {env.value}\")\n",
        "policy_matrix, value_matrix = env.policy_iteration(n_states, n_actions, env.rewards, alg='TD')\n",
        "print(\"The policy after iteration is: {}\\n\".format(policy_matrix))"
      ]
    },
    {
      "cell_type": "code",
      "execution_count": 10,
      "metadata": {
        "colab": {
          "base_uri": "https://localhost:8080/"
        },
        "id": "hFe6O31TaXKh",
        "outputId": "3d361a88-ccd6-44d0-d085-a8999d45c094"
      },
      "outputs": [
        {
          "output_type": "execute_result",
          "data": {
            "text/plain": [
              "3"
            ]
          },
          "metadata": {},
          "execution_count": 10
        }
      ],
      "source": [
        "np.random.randint(5)"
      ]
    },
    {
      "cell_type": "code",
      "execution_count": null,
      "metadata": {
        "id": "rOlZvM0MdtWd"
      },
      "outputs": [],
      "source": [
        "env = Agent(3, 3)\n",
        "env.rewards[1, np.random.randint(len(env.states)-1)]"
      ]
    },
    {
      "cell_type": "code",
      "execution_count": 4,
      "metadata": {
        "id": "GgsC-Dv8k3be",
        "colab": {
          "base_uri": "https://localhost:8080/"
        },
        "outputId": "5de13224-f341-4d03-ab9e-91765affd579"
      },
      "outputs": [
        {
          "output_type": "execute_result",
          "data": {
            "text/plain": [
              "array([0.93872286])"
            ]
          },
          "metadata": {},
          "execution_count": 4
        }
      ],
      "source": [
        "import numpy as np\n",
        "np.random.rand(1)"
      ]
    },
    {
      "cell_type": "code",
      "source": [],
      "metadata": {
        "id": "QU-UmQJyieAW"
      },
      "execution_count": null,
      "outputs": []
    }
  ],
  "metadata": {
    "colab": {
      "provenance": [],
      "authorship_tag": "ABX9TyOU/NHetVaShRyaPm02Iw6F",
      "include_colab_link": true
    },
    "kernelspec": {
      "display_name": "Python 3",
      "name": "python3"
    },
    "language_info": {
      "name": "python"
    }
  },
  "nbformat": 4,
  "nbformat_minor": 0
}