{
  "nbformat": 4,
  "nbformat_minor": 0,
  "metadata": {
    "colab": {
      "provenance": [],
      "authorship_tag": "ABX9TyNohQ6doq4aA7IrROUdJwvN",
      "include_colab_link": true
    },
    "kernelspec": {
      "name": "python3",
      "display_name": "Python 3"
    },
    "language_info": {
      "name": "python"
    }
  },
  "cells": [
    {
      "cell_type": "markdown",
      "metadata": {
        "id": "view-in-github",
        "colab_type": "text"
      },
      "source": [
        "<a href=\"https://colab.research.google.com/github/adarsh-nl/Markov-Decision-Process/blob/main/gym_MDP.ipynb\" target=\"_parent\"><img src=\"https://colab.research.google.com/assets/colab-badge.svg\" alt=\"Open In Colab\"/></a>"
      ]
    },
    {
      "cell_type": "code",
      "source": [
        "!pip install gymnasium"
      ],
      "metadata": {
        "colab": {
          "base_uri": "https://localhost:8080/"
        },
        "id": "MgX4QjKOkWyT",
        "outputId": "5c0d410f-3c31-4ac5-d459-317ee1f6e078"
      },
      "execution_count": null,
      "outputs": [
        {
          "output_type": "stream",
          "name": "stdout",
          "text": [
            "Looking in indexes: https://pypi.org/simple, https://us-python.pkg.dev/colab-wheels/public/simple/\n",
            "Collecting gymnasium\n",
            "  Downloading gymnasium-0.27.1-py3-none-any.whl (883 kB)\n",
            "\u001b[2K     \u001b[90m━━━━━━━━━━━━━━━━━━━━━━━━━━━━━━━━━━━━━━\u001b[0m \u001b[32m883.7/883.7 KB\u001b[0m \u001b[31m17.3 MB/s\u001b[0m eta \u001b[36m0:00:00\u001b[0m\n",
            "\u001b[?25hCollecting jax-jumpy>=0.2.0\n",
            "  Downloading jax_jumpy-0.2.0-py3-none-any.whl (11 kB)\n",
            "Requirement already satisfied: cloudpickle>=1.2.0 in /usr/local/lib/python3.8/dist-packages (from gymnasium) (2.2.0)\n",
            "Requirement already satisfied: numpy>=1.21.0 in /usr/local/lib/python3.8/dist-packages (from gymnasium) (1.21.6)\n",
            "Collecting gymnasium-notices>=0.0.1\n",
            "  Downloading gymnasium_notices-0.0.1-py3-none-any.whl (2.8 kB)\n",
            "Requirement already satisfied: typing-extensions>=4.3.0 in /usr/local/lib/python3.8/dist-packages (from gymnasium) (4.4.0)\n",
            "Requirement already satisfied: importlib-metadata>=4.8.0 in /usr/local/lib/python3.8/dist-packages (from gymnasium) (6.0.0)\n",
            "Requirement already satisfied: zipp>=0.5 in /usr/local/lib/python3.8/dist-packages (from importlib-metadata>=4.8.0->gymnasium) (3.11.0)\n",
            "Installing collected packages: gymnasium-notices, jax-jumpy, gymnasium\n",
            "Successfully installed gymnasium-0.27.1 gymnasium-notices-0.0.1 jax-jumpy-0.2.0\n"
          ]
        }
      ]
    },
    {
      "cell_type": "code",
      "source": [
        "!pip install gymnasium[box2d]"
      ],
      "metadata": {
        "colab": {
          "base_uri": "https://localhost:8080/"
        },
        "id": "li-n4rD1kgWM",
        "outputId": "43084f1a-b87d-4919-8f96-db931001f3bd"
      },
      "execution_count": null,
      "outputs": [
        {
          "output_type": "stream",
          "name": "stdout",
          "text": [
            "Looking in indexes: https://pypi.org/simple, https://us-python.pkg.dev/colab-wheels/public/simple/\n",
            "Requirement already satisfied: gymnasium[box2d] in /usr/local/lib/python3.8/dist-packages (0.27.1)\n",
            "Requirement already satisfied: numpy>=1.21.0 in /usr/local/lib/python3.8/dist-packages (from gymnasium[box2d]) (1.21.6)\n",
            "Requirement already satisfied: typing-extensions>=4.3.0 in /usr/local/lib/python3.8/dist-packages (from gymnasium[box2d]) (4.4.0)\n",
            "Requirement already satisfied: gymnasium-notices>=0.0.1 in /usr/local/lib/python3.8/dist-packages (from gymnasium[box2d]) (0.0.1)\n",
            "Requirement already satisfied: importlib-metadata>=4.8.0 in /usr/local/lib/python3.8/dist-packages (from gymnasium[box2d]) (6.0.0)\n",
            "Requirement already satisfied: cloudpickle>=1.2.0 in /usr/local/lib/python3.8/dist-packages (from gymnasium[box2d]) (2.2.0)\n",
            "Requirement already satisfied: jax-jumpy>=0.2.0 in /usr/local/lib/python3.8/dist-packages (from gymnasium[box2d]) (0.2.0)\n",
            "Collecting pygame==2.1.3.dev8\n",
            "  Downloading pygame-2.1.3.dev8-cp38-cp38-manylinux_2_17_x86_64.manylinux2014_x86_64.whl (13.7 MB)\n",
            "\u001b[2K     \u001b[90m━━━━━━━━━━━━━━━━━━━━━━━━━━━━━━━━━━━━━━━━\u001b[0m \u001b[32m13.7/13.7 MB\u001b[0m \u001b[31m62.5 MB/s\u001b[0m eta \u001b[36m0:00:00\u001b[0m\n",
            "\u001b[?25hCollecting swig==4.*\n",
            "  Downloading swig-4.1.1-py2.py3-none-manylinux_2_5_x86_64.manylinux1_x86_64.whl (1.8 MB)\n",
            "\u001b[2K     \u001b[90m━━━━━━━━━━━━━━━━━━━━━━━━━━━━━━━━━━━━━━━━\u001b[0m \u001b[32m1.8/1.8 MB\u001b[0m \u001b[31m60.4 MB/s\u001b[0m eta \u001b[36m0:00:00\u001b[0m\n",
            "\u001b[?25hCollecting box2d-py==2.3.5\n",
            "  Downloading box2d-py-2.3.5.tar.gz (374 kB)\n",
            "\u001b[2K     \u001b[90m━━━━━━━━━━━━━━━━━━━━━━━━━━━━━━━━━━━━━━\u001b[0m \u001b[32m374.4/374.4 KB\u001b[0m \u001b[31m30.8 MB/s\u001b[0m eta \u001b[36m0:00:00\u001b[0m\n",
            "\u001b[?25h  Preparing metadata (setup.py) ... \u001b[?25l\u001b[?25hdone\n",
            "Requirement already satisfied: zipp>=0.5 in /usr/local/lib/python3.8/dist-packages (from importlib-metadata>=4.8.0->gymnasium[box2d]) (3.11.0)\n",
            "Building wheels for collected packages: box2d-py\n",
            "  \u001b[1;31merror\u001b[0m: \u001b[1msubprocess-exited-with-error\u001b[0m\n",
            "  \n",
            "  \u001b[31m×\u001b[0m \u001b[32mpython setup.py bdist_wheel\u001b[0m did not run successfully.\n",
            "  \u001b[31m│\u001b[0m exit code: \u001b[1;36m1\u001b[0m\n",
            "  \u001b[31m╰─>\u001b[0m See above for output.\n",
            "  \n",
            "  \u001b[1;35mnote\u001b[0m: This error originates from a subprocess, and is likely not a problem with pip.\n",
            "  Building wheel for box2d-py (setup.py) ... \u001b[?25lerror\n",
            "\u001b[31m  ERROR: Failed building wheel for box2d-py\u001b[0m\u001b[31m\n",
            "\u001b[0m\u001b[?25h  Running setup.py clean for box2d-py\n",
            "Failed to build box2d-py\n",
            "Installing collected packages: swig, box2d-py, pygame\n",
            "  Running setup.py install for box2d-py ... \u001b[?25l\u001b[?25hdone\n",
            "\u001b[33m  DEPRECATION: box2d-py was installed using the legacy 'setup.py install' method, because a wheel could not be built for it. A possible replacement is to fix the wheel build issue reported above. Discussion can be found at https://github.com/pypa/pip/issues/8368\u001b[0m\u001b[33m\n",
            "\u001b[0mSuccessfully installed box2d-py-2.3.5 pygame-2.1.3.dev8 swig-4.1.1\n"
          ]
        }
      ]
    },
    {
      "cell_type": "code",
      "source": [
        "import os\n",
        "import gym\n",
        "import matplotlib.pyplot as plt\n",
        "os.environ[\"SDL_VIDEODRIVER\"] = \"dummy\"\n",
        "from IPython.display import clear_output\n",
        "\n",
        "env = gym.make(\"CartPole-v1\")#, render_mode=\"human\")\n",
        "env.action_space.seed(42)\n",
        "\n",
        "observation, info = env.reset(seed=42, return_info=True)\n",
        "\n",
        "for _ in range(50):\n",
        "    observation, reward, done, info = env.step(env.action_space.sample())\n",
        "\n",
        "    if done:\n",
        "        observation, info = env.reset(return_info=True)\n",
        "        \n",
        "    clear_output(wait=True)\n",
        "    plt.imshow( env.render(mode='rgb_array') )\n",
        "    plt.show()\n",
        "\n",
        "env.close()"
      ],
      "metadata": {
        "id": "scrwKPSjkPrp",
        "colab": {
          "base_uri": "https://localhost:8080/",
          "height": 269
        },
        "outputId": "c96b64e7-b6b1-4620-9592-a2df746de011"
      },
      "execution_count": null,
      "outputs": [
        {
          "output_type": "display_data",
          "data": {
            "text/plain": [
              "<Figure size 432x288 with 1 Axes>"
            ],
            "image/png": "[encoded data removed]"
          },
          "metadata": {
            "needs_background": "light"
          }
        }
      ]
    },
    {
      "cell_type": "code",
      "source": [
        "import os\n",
        "import gym\n",
        "import matplotlib.pyplot as plt\n",
        "os.environ[\"SDL_VIDEODRIVER\"] = \"dummy\"\n",
        "from IPython.display import clear_output\n",
        "\n",
        "env = gym.make(\"CartPole-v1\")#, render_mode=\"human\")\n",
        "\n",
        "env.reset()\n"
      ],
      "metadata": {
        "colab": {
          "base_uri": "https://localhost:8080/"
        },
        "id": "HPusTm6B1SbP",
        "outputId": "30cb249a-9c85-4a38-8efd-86cdeab5ff46"
      },
      "execution_count": null,
      "outputs": [
        {
          "output_type": "execute_result",
          "data": {
            "text/plain": [
              "array([-0.02905414, -0.04199108, -0.04114462, -0.01542564], dtype=float32)"
            ]
          },
          "metadata": {},
          "execution_count": 8
        }
      ]
    },
    {
      "cell_type": "code",
      "source": [
        "env.step(env.action_space.sample())"
      ],
      "metadata": {
        "colab": {
          "base_uri": "https://localhost:8080/"
        },
        "id": "utrZxTair4H1",
        "outputId": "aebd5dfb-8c35-4e74-8c2c-93b3c4f543e9"
      },
      "execution_count": null,
      "outputs": [
        {
          "output_type": "execute_result",
          "data": {
            "text/plain": [
              "(array([-0.02989396,  0.15369605, -0.04145313, -0.32080102], dtype=float32),\n",
              " 1.0,\n",
              " False,\n",
              " {})"
            ]
          },
          "metadata": {},
          "execution_count": 9
        }
      ]
    },
    {
      "cell_type": "code",
      "source": [
        "env.observation_space"
      ],
      "metadata": {
        "colab": {
          "base_uri": "https://localhost:8080/"
        },
        "id": "F2VGKE9otBuh",
        "outputId": "bb970c60-50ea-473e-fbfb-0991cfff5a34"
      },
      "execution_count": null,
      "outputs": [
        {
          "output_type": "execute_result",
          "data": {
            "text/plain": [
              "Box([-4.8000002e+00 -3.4028235e+38 -4.1887903e-01 -3.4028235e+38], [4.8000002e+00 3.4028235e+38 4.1887903e-01 3.4028235e+38], (4,), float32)"
            ]
          },
          "metadata": {},
          "execution_count": 12
        }
      ]
    },
    {
      "cell_type": "code",
      "source": [
        "env.action_space"
      ],
      "metadata": {
        "colab": {
          "base_uri": "https://localhost:8080/"
        },
        "id": "6hbj4ZKEsCqK",
        "outputId": "9ee2c033-e85d-4aef-a31f-5d4dbce63d92"
      },
      "execution_count": null,
      "outputs": [
        {
          "output_type": "execute_result",
          "data": {
            "text/plain": [
              "Discrete(2)"
            ]
          },
          "metadata": {},
          "execution_count": 11
        }
      ]
    },
    {
      "cell_type": "code",
      "source": [
        "env.reset()"
      ],
      "metadata": {
        "colab": {
          "base_uri": "https://localhost:8080/"
        },
        "id": "IgKN2QbTs-7W",
        "outputId": "f6d628b2-154b-42b0-99c2-d8434d85c82a"
      },
      "execution_count": null,
      "outputs": [
        {
          "output_type": "execute_result",
          "data": {
            "text/plain": [
              "array([-0.007687  ,  1.4125829 , -0.77861696,  0.07387268,  0.00891403,\n",
              "        0.1763685 ,  0.        ,  0.        ], dtype=float32)"
            ]
          },
          "metadata": {},
          "execution_count": 22
        }
      ]
    },
    {
      "cell_type": "code",
      "source": [
        "env.reward_range"
      ],
      "metadata": {
        "colab": {
          "base_uri": "https://localhost:8080/"
        },
        "id": "SaOcJ-GCtYbO",
        "outputId": "1c45af07-9036-47ce-ec1c-32c163a85e60"
      },
      "execution_count": null,
      "outputs": [
        {
          "output_type": "execute_result",
          "data": {
            "text/plain": [
              "(-inf, inf)"
            ]
          },
          "metadata": {},
          "execution_count": 15
        }
      ]
    },
    {
      "cell_type": "code",
      "source": [
        "import os\n",
        "import gym\n",
        "import matplotlib.pyplot as plt\n",
        "os.environ[\"SDL_VIDEODRIVER\"] = \"dummy\"\n",
        "from IPython.display import clear_output\n",
        "\n",
        "env = gym.make(\"LunarLander-v2\")#, render_mode=\"human\")\n",
        "env.action_space.seed(42)\n",
        "\n",
        "observation, info = env.reset(return_info=True)\n",
        "\n",
        "for _ in range(1000):\n",
        "    observation, reward, done, info = env.step(env.action_space.sample())\n",
        "\n",
        "    if done:\n",
        "        observation, info = env.reset(return_info=True)\n",
        "        \n",
        "    clear_output(wait=True)\n",
        "    plt.imshow( env.render(mode='rgb_array') )\n",
        "    plt.show()\n",
        "\n",
        "env.close()"
      ],
      "metadata": {
        "colab": {
          "base_uri": "https://localhost:8080/",
          "height": 269
        },
        "id": "JgtsDfxA1NQt",
        "outputId": "695ca23d-3a82-4967-b23b-7847211c7291"
      },
      "execution_count": null,
      "outputs": [
        {
          "output_type": "display_data",
          "data": {
            "text/plain": [
              "<Figure size 432x288 with 1 Axes>"
            ],
            "image/png": "[encoded data removed]"
          },
          "metadata": {
            "needs_background": "light"
          }
        }
      ]
    },
    {
      "cell_type": "code",
      "source": [
        "import gym\n",
        "import numpy as np\n",
        "\n",
        "class Agent(gym.Env):\n",
        "    def __init__(self, n_states, n_actions):\n",
        "        self.observation_space = gym.spaces.Discrete(n_states)\n",
        "        self.action_space = gym.spaces.Discrete(n_actions)\n",
        "        self.P = np.random.rand(n_states, n_actions, n_states)\n",
        "        self.P /= self.P.sum(axis=2, keepdims=True)\n",
        "        self.rewards = np.random.rand(n_states, n_actions)\n",
        "        self.state = 0\n",
        "\n",
        "    def step(self, action):\n",
        "        #print('---')\n",
        "        #print(\"{}\".format(self.P[self.state, action]))\n",
        "        next_state = np.random.choice(n_states, p=self.P[self.state, action])\n",
        "        reward = self.rewards[self.state, action]\n",
        "        self.state = next_state\n",
        "        return next_state, reward\n",
        "\n",
        "    def reset(self):\n",
        "        self.state = 0\n",
        "        return self.state\n",
        "\n",
        "# Instantiate the environment\n",
        "n_states = 5\n",
        "n_actions = 5\n",
        "env = Agent(n_states, n_actions)\n",
        "\"\"\"\n",
        "print(env.P)\n",
        "print('--')\n",
        "print(env.P[0,1,1])\n",
        "\"\"\"\n",
        "# Train an agent\n",
        "for i in range(10):\n",
        "    action = env.action_space.sample() # sample a random action\n",
        "    next_state, reward= env.step(action)\n",
        "    print(f\"state: {state}, action: {action}, next_state: {next_state}, reward: {reward}\")\n",
        "    state = next_state\n"
      ],
      "metadata": {
        "colab": {
          "base_uri": "https://localhost:8080/"
        },
        "id": "AuMOslIn3DDK",
        "outputId": "6368a26c-fd96-48cb-c7d2-8c0a312b2a1d"
      },
      "execution_count": null,
      "outputs": [
        {
          "output_type": "stream",
          "name": "stdout",
          "text": [
            "state: 2, action: 2, next_state: 1, reward: 0.7610119450413163\n",
            "state: 1, action: 0, next_state: 0, reward: 0.8378071890724615\n",
            "state: 0, action: 4, next_state: 4, reward: 0.3295599832813284\n",
            "state: 4, action: 1, next_state: 2, reward: 0.8063942629122819\n",
            "state: 2, action: 1, next_state: 2, reward: 0.753740567853472\n",
            "state: 2, action: 0, next_state: 3, reward: 0.26026837935380254\n",
            "state: 3, action: 1, next_state: 4, reward: 0.24297286137757212\n",
            "state: 4, action: 1, next_state: 2, reward: 0.8063942629122819\n",
            "state: 2, action: 2, next_state: 0, reward: 0.508604205776517\n",
            "state: 0, action: 3, next_state: 0, reward: 0.8949553649813957\n"
          ]
        }
      ]
    },
    {
      "cell_type": "code",
      "source": [],
      "metadata": {
        "id": "afRNrfRqD0wZ"
      },
      "execution_count": null,
      "outputs": []
    }
  ]
}