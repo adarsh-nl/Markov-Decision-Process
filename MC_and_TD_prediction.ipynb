{
  "cells": [
    {
      "cell_type": "markdown",
      "metadata": {
        "id": "view-in-github",
        "colab_type": "text"
      },
      "source": [
        "<a href=\"https://colab.research.google.com/github/adarsh-nl/Markov-Decision-Process/blob/main/MC_and_TD_prediction.ipynb\" target=\"_parent\"><img src=\"https://colab.research.google.com/assets/colab-badge.svg\" alt=\"Open In Colab\"/></a>"
      ]
    },
    {
      "cell_type": "code",
      "execution_count": 15,
      "metadata": {
        "colab": {
          "base_uri": "https://localhost:8080/"
        },
        "id": "ilvZDziuf3By",
        "outputId": "d7bccc09-d011-438b-e1c8-6df31d2e14c2"
      },
      "outputs": [
        {
          "output_type": "stream",
          "name": "stdout",
          "text": [
            "observation space: 10, states created from observation space: [0, 1, 2, 3, 4, 5, 6, 7, 8, 9]\n",
            "action space: 10, states created from observation space: [0, 1, 2, 3, 4, 5, 6, 7, 8, 9]\n",
            "value of each states:\n",
            " [[0.]\n",
            " [0.]\n",
            " [0.]\n",
            " [0.]\n",
            " [0.]\n",
            " [0.]\n",
            " [0.]\n",
            " [0.]\n",
            " [0.]\n",
            " [0.]]\n",
            "value of each states after MC prediction:\n",
            " [[38.78949316]\n",
            " [38.37813275]\n",
            " [38.44553487]\n",
            " [38.65218908]\n",
            " [38.50179054]\n",
            " [38.52757707]\n",
            " [51.43691397]\n",
            " [38.3143613 ]\n",
            " [38.29877352]\n",
            " [ 0.        ]]\n",
            "\n",
            "-------x-------\n",
            "\n",
            "value of each states are reset before implementing TD prediction:\n",
            " [[0.]\n",
            " [0.]\n",
            " [0.]\n",
            " [0.]\n",
            " [0.]\n",
            " [0.]\n",
            " [0.]\n",
            " [0.]\n",
            " [0.]\n",
            " [0.]]\n",
            "value of each states after TD prediction:\n",
            " [[0.48627172]\n",
            " [0.50203133]\n",
            " [0.50123029]\n",
            " [0.49453106]\n",
            " [0.48870542]\n",
            " [0.48771604]\n",
            " [0.50165964]\n",
            " [0.49508976]\n",
            " [0.49729741]\n",
            " [0.4998937 ]]\n"
          ]
        }
      ],
      "source": [
        "import gym\n",
        "import numpy as np\n",
        "\n",
        "class Agent(gym.Env):\n",
        "    def __init__(self, n_states, n_actions):\n",
        "        self.observation_space = gym.spaces.Discrete(n_states)\n",
        "        self.states = [n for n in range(self.observation_space.n)]\n",
        "        self.initial_state = self.states[0];self.final_state = self.states[-1]      \n",
        "        self.action_space = gym.spaces.Discrete(n_actions)\n",
        "        self.actions = [n for n in range(self.action_space.n)]\n",
        "        self.rewards = np.random.rand(n_states, n_actions)\n",
        "        self.value = np.zeros((n_states, 1))\n",
        "        self.policy = np.random.randint(0, n_states, (n_states, 1))\n",
        "        self.policy = self.policy.flatten()\n",
        "        self.state = 0\n",
        "        self.iterations = 1000\n",
        "\n",
        "    def reset(self, state):\n",
        "        self.state = state\n",
        "        return self.state\n",
        "\n",
        "    def value_reset(self):\n",
        "        self.value = np.zeros((n_states, 1))\n",
        "\n",
        "    def mc_episodes(self, state):\n",
        "        rewards_ = []\n",
        "        steps = 0\n",
        "        while state != self.final_state:\n",
        "          rewards_.append(self.rewards[state, np.random.randint(len(self.states))])\n",
        "          next_state = self.policy[state]\n",
        "          state = next_state\n",
        "          steps += 1\n",
        "          if steps>100:\n",
        "            break\n",
        "        gt = sum(rewards_)\n",
        "        return gt\n",
        "\n",
        "    def monte_carlo(self):\n",
        "        for state in self.states:\n",
        "          for episode in range (1, self.iterations):\n",
        "              gt = self.mc_episodes(state)\n",
        "              #self.value[state]  = self.value[state] + (1/episode)*(gt - self.value[state])\n",
        "              self.value[state]  = (self.value[state] * (episode - 1) + gt )/episode\n",
        "\n",
        "    def TD(self):\n",
        "      for episode in range (1, self.iterations):\n",
        "        for state in self.states:\n",
        "          self.value[state] += np.random.rand(1)\n",
        "      \n",
        "      self.value = self.value/self.iterations\n",
        "\n",
        "# Instantiate the environment\n",
        "#n_states = int(input(\"Enter the number of states\"))\n",
        "#n_actions = int(input(\"Enter the number of actions\"))\n",
        "\n",
        "n_states = 10\n",
        "n_actions = 10\n",
        "env = Agent(n_states, n_actions)\n",
        "print(f\"observation space: {env.observation_space.n}, states created from observation space: {env.states}\")\n",
        "print(f\"action space: {env.action_space.n}, states created from observation space: {env.actions}\")\n",
        "print(f\"value of each states:\\n {env.value}\")\n",
        "env.monte_carlo()\n",
        "print(f\"value of each states after MC prediction:\\n {env.value}\")\n",
        "env.value_reset()\n",
        "print('\\n-------x-------\\n')\n",
        "print(f\"value of each states are reset before implementing TD prediction:\\n {env.value}\")\n",
        "env.TD()\n",
        "print(f\"value of each states after TD prediction:\\n {env.value}\")"
      ]
    },
    {
      "cell_type": "code",
      "source": [
        "np.random.rand(1)"
      ],
      "metadata": {
        "colab": {
          "base_uri": "https://localhost:8080/"
        },
        "id": "QQ8hJEn4-YqR",
        "outputId": "a533c171-d5f6-4f88-cef5-108a24a09ad1"
      },
      "execution_count": 8,
      "outputs": [
        {
          "output_type": "execute_result",
          "data": {
            "text/plain": [
              "array([0.12265132])"
            ]
          },
          "metadata": {},
          "execution_count": 8
        }
      ]
    },
    {
      "cell_type": "code",
      "source": [],
      "metadata": {
        "id": "0-w4zRBb_pfE"
      },
      "execution_count": null,
      "outputs": []
    }
  ],
  "metadata": {
    "colab": {
      "provenance": [],
      "authorship_tag": "ABX9TyPwScFyNE9m3oxIgy7jFV9G",
      "include_colab_link": true
    },
    "kernelspec": {
      "display_name": "Python 3",
      "name": "python3"
    },
    "language_info": {
      "name": "python"
    }
  },
  "nbformat": 4,
  "nbformat_minor": 0
}