{
  "nbformat": 4,
  "nbformat_minor": 0,
  "metadata": {
    "colab": {
      "provenance": [],
      "authorship_tag": "ABX9TyPNQOe487tlfJUYnOI3ngM7",
      "include_colab_link": true
    },
    "kernelspec": {
      "name": "python3",
      "display_name": "Python 3"
    },
    "language_info": {
      "name": "python"
    }
  },
  "cells": [
    {
      "cell_type": "markdown",
      "metadata": {
        "id": "view-in-github",
        "colab_type": "text"
      },
      "source": [
        "<a href=\"https://colab.research.google.com/github/adarsh-nl/Markov-Decision-Process/blob/main/off_policy_learning.ipynb\" target=\"_parent\"><img src=\"https://colab.research.google.com/assets/colab-badge.svg\" alt=\"Open In Colab\"/></a>"
      ]
    },
    {
      "cell_type": "code",
      "execution_count": 1,
      "metadata": {
        "id": "dk79svhsxq3M"
      },
      "outputs": [],
      "source": [
        "import numpy as np\n",
        "\n",
        "class Agents:\n",
        "  def __init__(self, n_states, n_actions):\n",
        "    self.n_states = n_states\n",
        "    self.n_actions = n_actions\n",
        "    self.states = [i for i in range(n_states)]\n",
        "    self.actions = [i for i in range(n_actions)]\n",
        "    self.rewards = np.random.rand(n_states, n_actions)\n",
        "    self.value = np.zeros((n_states, 1))\n",
        "    #self.policy = np.random.rand(n_states, n_actions)\n",
        "    #self.policy /= self.policy.sum(axis=1, keepdims=True)\n",
        "    self.policy = np.random.randint(0, n_states, (n_states, 1))\n",
        "    self.policy = self.policy.flatten()\n",
        "    self.state = 0\n",
        "    self.iterations = 1000\n",
        "    self.final_state = self.states[-1]\n",
        "  \n",
        "  def mc_episodes(self, state):\n",
        "      rewards_ = []\n",
        "      steps = 0\n",
        "      while state != self.final_state:\n",
        "        rewards_.append(self.rewards[state, np.random.randint(len(self.states))])\n",
        "        next_state = self.policy[state]\n",
        "        state = next_state\n",
        "        steps += 1\n",
        "        if steps > 100:\n",
        "          break\n",
        "      gt = sum(rewards_)\n",
        "      return gt\n",
        "\n",
        "  def monte_carlo(self):\n",
        "    for state in self.states:\n",
        "      for episode in range (1, self.iterations):\n",
        "        gt = self.mc_episodes(state)\n",
        "        self.value[state]  = (self.value[state] * (episode - 1) + gt )/episode\n",
        "    self.value[-1] = np.mean(self.value)\n",
        "    return self.value\n",
        "\n",
        "  def off_policy_learning(self, policy1, policy2, value1, value2):\n",
        "    state1 = self.state\n",
        "    state2 = self.state\n",
        "\n",
        "    for iteration in range(self.iterations):\n",
        "      if (state1 == self.final_state) and (state2 == self.final_state):\n",
        "        break\n",
        "      else:\n",
        "        action1 = policy1[state1]\n",
        "        action2 = policy2[state2]\n",
        "        policy2[state2] = policy1[state2]\n",
        "        value2[action1] = value1[action1]\n",
        "\n",
        "        state1 = action1\n",
        "        state2 = action2\n",
        "    return policy1, policy2, value1, value2"
      ]
    },
    {
      "cell_type": "code",
      "source": [
        "n_states = 5\n",
        "n_actions = 5\n",
        "Agent1 = Agents(n_states, n_actions)\n",
        "Agent2 = Agents(n_states, n_actions)\n",
        "\n",
        "print(\"The Target policy: \\n{}\\n\\nThe intitial action value function: \\n{}\".format(Agent1.policy, Agent1.value))\n",
        "print(\"\\n\\nThe behavioural policy: \\n{}\\n\\nThe intitial action value function: \\n{}\".format(Agent2.policy, Agent2.value))\n",
        "\n",
        "Agent1.value = Agent1.monte_carlo()\n",
        "Agent1.policy, Agent2.policy, Agent1.value, Agent2.value = Agent2.off_policy_learning(Agent1.policy, Agent2.policy, Agent1.value, Agent2.value)\n",
        "\n",
        "print(\"\\n\\n------------------------------------------------------\\n\\nThe Target policy: \\n{}\\n\\nThe intitial action value function: \\n{}\".format(Agent1.policy, Agent1.value))\n",
        "print(\"\\n\\nThe behavioural policy: \\n{}\\n\\nThe intitial action value function: \\n{}\".format(Agent2.policy, Agent2.value))\n"
      ],
      "metadata": {
        "colab": {
          "base_uri": "https://localhost:8080/"
        },
        "id": "bCP86iWzpYqP",
        "outputId": "1ca8ea7f-6bc2-4533-8e5a-ff6f7a27b83a"
      },
      "execution_count": 3,
      "outputs": [
        {
          "output_type": "stream",
          "name": "stdout",
          "text": [
            "The Target policy: \n",
            "[0 4 1 3 1]\n",
            "\n",
            "The intitial action value function: \n",
            "[[0.]\n",
            " [0.]\n",
            " [0.]\n",
            " [0.]\n",
            " [0.]]\n",
            "\n",
            "\n",
            "The behavioural policy: \n",
            "[3 4 2 4 1]\n",
            "\n",
            "The intitial action value function: \n",
            "[[0.]\n",
            " [0.]\n",
            " [0.]\n",
            " [0.]\n",
            " [0.]]\n",
            "\n",
            "\n",
            "------------------------------------------------------\n",
            "\n",
            "The Target policy: \n",
            "[0 4 1 3 1]\n",
            "\n",
            "The intitial action value function: \n",
            "[[50.1936935 ]\n",
            " [ 0.36480052]\n",
            " [ 0.96774284]\n",
            " [43.41319886]\n",
            " [18.98788715]]\n",
            "\n",
            "\n",
            "The behavioural policy: \n",
            "[0 4 2 3 1]\n",
            "\n",
            "The intitial action value function: \n",
            "[[50.1936935]\n",
            " [ 0.       ]\n",
            " [ 0.       ]\n",
            " [ 0.       ]\n",
            " [ 0.       ]]\n"
          ]
        }
      ]
    },
    {
      "cell_type": "code",
      "source": [],
      "metadata": {
        "id": "UbjCo3AWptJK"
      },
      "execution_count": 41,
      "outputs": []
    }
  ]
}